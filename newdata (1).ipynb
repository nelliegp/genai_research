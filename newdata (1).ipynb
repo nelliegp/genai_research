{
  "nbformat": 4,
  "nbformat_minor": 0,
  "metadata": {
    "colab": {
      "provenance": []
    },
    "kernelspec": {
      "name": "python3",
      "display_name": "Python 3"
    },
    "language_info": {
      "name": "python"
    }
  },
  "cells": [
    {
      "cell_type": "code",
      "execution_count": 4,
      "metadata": {
        "colab": {
          "base_uri": "https://localhost:8080/"
        },
        "id": "v_96qBqu2rcN",
        "outputId": "69102e73-41e4-4739-9b81-9be7b6240ae3"
      },
      "outputs": [
        {
          "output_type": "stream",
          "name": "stdout",
          "text": [
            "        week  frm_30 points_30  frm_15  points_15  arm  arm_points  margin  \\\n",
            "0 1971-04-02    7.33       NaN     NaN        NaN  NaN         NaN     NaN   \n",
            "1 1971-04-09    7.31               NaN        NaN  NaN         NaN     NaN   \n",
            "2 1971-04-16    7.31               NaN        NaN  NaN         NaN     NaN   \n",
            "3 1971-04-23    7.31               NaN        NaN  NaN         NaN     NaN   \n",
            "4 1971-04-30    7.29               NaN        NaN  NaN         NaN     NaN   \n",
            "\n",
            "   spread  \n",
            "0     NaN  \n",
            "1     NaN  \n",
            "2     NaN  \n",
            "3     NaN  \n",
            "4     NaN  \n",
            "           week  frm_30 points_30  frm_15  points_15  arm  arm_points  margin  \\\n",
            "2769 2024-04-25    7.17       NaN    6.44        NaN  NaN         NaN     NaN   \n",
            "2770 2024-05-02    7.22       NaN    6.47        NaN  NaN         NaN     NaN   \n",
            "2771 2024-05-09    7.09       NaN    6.38        NaN  NaN         NaN     NaN   \n",
            "2772 2024-05-16    7.02       NaN    6.28        NaN  NaN         NaN     NaN   \n",
            "2773 2024-05-23    6.94       NaN    6.24        NaN  NaN         NaN     NaN   \n",
            "\n",
            "      spread  \n",
            "2769     NaN  \n",
            "2770     NaN  \n",
            "2771     NaN  \n",
            "2772     NaN  \n",
            "2773     NaN  \n"
          ]
        }
      ],
      "source": [
        "import pandas as pd\n",
        "\n",
        "# Replace 'file_path.xlsx' with the path to your Excel file\n",
        "file_path = 'historicalweeklydata.xlsx'\n",
        "\n",
        "# Read the Excel file\n",
        "df = pd.read_excel(file_path, skiprows=6,skipfooter=1, names = ('week', 'frm_30', 'points_30', 'frm_15', 'points_15',  'arm', 'arm_points', 'margin',  'spread'))\n",
        "\n",
        "# Display the first few rows of the dataframe\n",
        "print(df.head())\n",
        "print(df.tail())"
      ]
    },
    {
      "cell_type": "code",
      "source": [],
      "metadata": {
        "id": "mfkD4RMW8Mdm"
      },
      "execution_count": null,
      "outputs": []
    },
    {
      "cell_type": "code",
      "source": [],
      "metadata": {
        "id": "VwC8HVp38Lcg"
      },
      "execution_count": null,
      "outputs": []
    },
    {
      "cell_type": "code",
      "source": [],
      "metadata": {
        "id": "fl_7WZJC7AsD"
      },
      "execution_count": null,
      "outputs": []
    },
    {
      "cell_type": "markdown",
      "source": [],
      "metadata": {
        "id": "b2s-Onui94-U"
      }
    },
    {
      "cell_type": "code",
      "source": [
        "print(df.memory_usage(deep=True))"
      ],
      "metadata": {
        "colab": {
          "base_uri": "https://localhost:8080/"
        },
        "id": "qy3GITPG96Uy",
        "outputId": "05fbf90a-d4f6-471a-9d05-305348c521d5"
      },
      "execution_count": null,
      "outputs": [
        {
          "output_type": "stream",
          "name": "stdout",
          "text": [
            "Index           128\n",
            "week          22192\n",
            "frm_30        22192\n",
            "points_30     90762\n",
            "frm_15        22192\n",
            "points_15     22192\n",
            "arm           22192\n",
            "arm_points    22192\n",
            "margin        22192\n",
            "spread        22192\n",
            "dtype: int64\n"
          ]
        }
      ]
    },
    {
      "cell_type": "code",
      "source": [
        "print(filtered_df_date_range.memory_usage(deep=True))\n"
      ],
      "metadata": {
        "colab": {
          "base_uri": "https://localhost:8080/"
        },
        "id": "05uGqBsr-M5w",
        "outputId": "1d3f979c-96dc-482c-e98a-39e2f3e00b94"
      },
      "execution_count": null,
      "outputs": [
        {
          "output_type": "stream",
          "name": "stdout",
          "text": [
            "Index          584\n",
            "week           584\n",
            "frm_30         584\n",
            "points_30     2336\n",
            "frm_15         584\n",
            "points_15      584\n",
            "arm            584\n",
            "arm_points     584\n",
            "margin         584\n",
            "spread         584\n",
            "dtype: int64\n"
          ]
        }
      ]
    },
    {
      "cell_type": "code",
      "source": [
        "df = pd.DataFrame(df)\n",
        "\n",
        "# Convert Datetime column to datetime type\n",
        "df['week'] = pd.to_datetime(df['week'])\n",
        "\n",
        "date_filter = pd.to_datetime('2022-01-01')\n",
        "\n",
        "df = df[(df['week'] >= date_filter)]\n",
        "# Create a column with the previous year's values\n",
        "df['Previous_Year_Value'] = df['frm_30'].shift(52)\n",
        "df['Previous_Year_Value_15'] = df['frm_15'].shift(52)\n",
        "\n",
        "df['Previous_year_week'] = df['week'].shift(52)\n",
        "\n",
        "# Calculate the Year-over-Year percent change\n",
        "df['YoY_Change_Percent_30'] = (df['frm_30'] - df['Previous_Year_Value']) / df['Previous_Year_Value']\n",
        "df['YoY_Change_Percent_15'] = (df['frm_15'] - df['Previous_Year_Value_15']) / df['Previous_Year_Value_15']\n",
        "\n",
        "print(df.tail())"
      ],
      "metadata": {
        "colab": {
          "base_uri": "https://localhost:8080/"
        },
        "id": "wifp3uN24fc0",
        "outputId": "93e4b43e-0fa2-4d79-973c-6c8e2b843592"
      },
      "execution_count": 5,
      "outputs": [
        {
          "output_type": "stream",
          "name": "stdout",
          "text": [
            "           week  frm_30 points_30  frm_15  points_15  arm  arm_points  margin  \\\n",
            "2769 2024-04-25    7.17       NaN    6.44        NaN  NaN         NaN     NaN   \n",
            "2770 2024-05-02    7.22       NaN    6.47        NaN  NaN         NaN     NaN   \n",
            "2771 2024-05-09    7.09       NaN    6.38        NaN  NaN         NaN     NaN   \n",
            "2772 2024-05-16    7.02       NaN    6.28        NaN  NaN         NaN     NaN   \n",
            "2773 2024-05-23    6.94       NaN    6.24        NaN  NaN         NaN     NaN   \n",
            "\n",
            "      spread  Previous_Year_Value  Previous_Year_Value_15 Previous_year_week  \\\n",
            "2769     NaN                 6.43                    5.71         2023-04-27   \n",
            "2770     NaN                 6.39                    5.76         2023-05-04   \n",
            "2771     NaN                 6.35                    5.75         2023-05-11   \n",
            "2772     NaN                 6.39                    5.75         2023-05-18   \n",
            "2773     NaN                 6.57                    5.97         2023-05-25   \n",
            "\n",
            "      YoY_Change_Percent_30  YoY_Change_Percent_15  \n",
            "2769               0.115086               0.127846  \n",
            "2770               0.129890               0.123264  \n",
            "2771               0.116535               0.109565  \n",
            "2772               0.098592               0.092174  \n",
            "2773               0.056317               0.045226  \n"
          ]
        }
      ]
    },
    {
      "cell_type": "code",
      "source": [],
      "metadata": {
        "id": "AsByJjQtSp16"
      },
      "execution_count": null,
      "outputs": []
    },
    {
      "cell_type": "code",
      "source": [
        "\n",
        "df.to_csv('freddie_pmms.csv', index=False)"
      ],
      "metadata": {
        "id": "Ztc0r6N6OfQ-"
      },
      "execution_count": 7,
      "outputs": []
    },
    {
      "cell_type": "code",
      "source": [],
      "metadata": {
        "id": "1acsUaO33zLA"
      },
      "execution_count": null,
      "outputs": []
    }
  ]
}