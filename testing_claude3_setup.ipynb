{
  "cells": [
    {
      "cell_type": "markdown",
      "metadata": {
        "id": "view-in-github",
        "colab_type": "text"
      },
      "source": [
        "<a href=\"https://colab.research.google.com/github/nelliegp/genai_research/blob/main/testing_claude3_setup.ipynb\" target=\"_parent\"><img src=\"https://colab.research.google.com/assets/colab-badge.svg\" alt=\"Open In Colab\"/></a>"
      ]
    },
    {
      "cell_type": "code",
      "execution_count": null,
      "id": "61e1b928-fe2a-42bf-995d-d7223fb29e33",
      "metadata": {
        "id": "61e1b928-fe2a-42bf-995d-d7223fb29e33"
      },
      "outputs": [],
      "source": [
        "### Notes:"
      ]
    },
    {
      "cell_type": "code",
      "source": [],
      "metadata": {
        "id": "p2Mo-9TODEdq"
      },
      "id": "p2Mo-9TODEdq",
      "execution_count": null,
      "outputs": []
    },
    {
      "cell_type": "markdown",
      "id": "3c554ac3-b8d9-4aff-9fa4-6915efeed542",
      "metadata": {
        "id": "3c554ac3-b8d9-4aff-9fa4-6915efeed542"
      },
      "source": [
        "Important Links:\n",
        "- Great Code Examples from Anthropic: https://github.com/anthropics/anthropic-cookbook\n",
        "- Claude Documentation: https://docs.anthropic.com/claude/docs/intro-to-claude\n",
        "\n",
        "Looks like Claude Sonnet is available for us to use, but not Claude Opus (which seems like the better fit)\n",
        "\n",
        "This walkthrough is using boto3 to connect to Claude3 via Amazon Bedrock, so sample logic below differs slightly from Anthropics examples\n",
        "(confirm this is how we want to do this, because this is what is preventing us from using the most up to date model)"
      ]
    },
    {
      "cell_type": "code",
      "execution_count": null,
      "id": "e4a24133-c7ee-432c-b47a-404d7104c88e",
      "metadata": {
        "id": "e4a24133-c7ee-432c-b47a-404d7104c88e"
      },
      "outputs": [],
      "source": [
        "##### ##### ##### ##### ##### ##### ##### ##### ##### ##### ##### ##### ##### ##### #####\n",
        "##### Step 1: Install Libraries\n",
        "##### Install boto3 to invoke Claude 3 Sonnet using Amazon’s boto3 library in Python.\n",
        "##### Install pybase64 to covert images to base 64\n",
        "##### ##### ##### ##### ##### ##### ##### ##### ##### ##### ##### ##### ##### ##### #####"
      ]
    },
    {
      "cell_type": "code",
      "execution_count": null,
      "id": "881fa35b-dd33-41f9-8473-7ba67f0571f7",
      "metadata": {
        "tags": [],
        "id": "881fa35b-dd33-41f9-8473-7ba67f0571f7",
        "colab": {
          "base_uri": "https://localhost:8080/"
        },
        "outputId": "6ebc8fa1-0908-4d14-fb33-e82eddc00347"
      },
      "outputs": [
        {
          "output_type": "stream",
          "name": "stdout",
          "text": [
            "Collecting boto3\n",
            "  Downloading boto3-1.34.82-py3-none-any.whl (139 kB)\n",
            "\u001b[?25l     \u001b[90m━━━━━━━━━━━━━━━━━━━━━━━━━━━━━━━━━━━━━━━━\u001b[0m \u001b[32m0.0/139.3 kB\u001b[0m \u001b[31m?\u001b[0m eta \u001b[36m-:--:--\u001b[0m\r\u001b[2K     \u001b[91m━━━━━━━━━━━━━━━━━━━━━━━━━━━━━━━━\u001b[0m\u001b[90m╺\u001b[0m\u001b[90m━━━━━━━\u001b[0m \u001b[32m112.6/139.3 kB\u001b[0m \u001b[31m3.1 MB/s\u001b[0m eta \u001b[36m0:00:01\u001b[0m\r\u001b[2K     \u001b[91m━━━━━━━━━━━━━━━━━━━━━━━━━━━━━━━━━━━━━━\u001b[0m\u001b[90m╺\u001b[0m\u001b[90m━\u001b[0m \u001b[32m133.1/139.3 kB\u001b[0m \u001b[31m3.4 MB/s\u001b[0m eta \u001b[36m0:00:01\u001b[0m\r\u001b[2K     \u001b[90m━━━━━━━━━━━━━━━━━━━━━━━━━━━━━━━━━━━━━━━━\u001b[0m \u001b[32m139.3/139.3 kB\u001b[0m \u001b[31m1.8 MB/s\u001b[0m eta \u001b[36m0:00:00\u001b[0m\n",
            "\u001b[?25hCollecting pybase-db\n",
            "  Downloading pybase_db-0.5.0-py3-none-any.whl (11 kB)\n",
            "Collecting simplejson\n",
            "  Downloading simplejson-3.19.2-cp310-cp310-manylinux_2_5_x86_64.manylinux1_x86_64.manylinux_2_17_x86_64.manylinux2014_x86_64.whl (137 kB)\n",
            "\u001b[2K     \u001b[90m━━━━━━━━━━━━━━━━━━━━━━━━━━━━━━━━━━━━━━━━\u001b[0m \u001b[32m137.9/137.9 kB\u001b[0m \u001b[31m4.5 MB/s\u001b[0m eta \u001b[36m0:00:00\u001b[0m\n",
            "\u001b[?25hCollecting botocore<1.35.0,>=1.34.82 (from boto3)\n",
            "  Downloading botocore-1.34.82-py3-none-any.whl (12.1 MB)\n",
            "\u001b[2K     \u001b[90m━━━━━━━━━━━━━━━━━━━━━━━━━━━━━━━━━━━━━━━━\u001b[0m \u001b[32m12.1/12.1 MB\u001b[0m \u001b[31m69.5 MB/s\u001b[0m eta \u001b[36m0:00:00\u001b[0m\n",
            "\u001b[?25hCollecting jmespath<2.0.0,>=0.7.1 (from boto3)\n",
            "  Downloading jmespath-1.0.1-py3-none-any.whl (20 kB)\n",
            "Collecting s3transfer<0.11.0,>=0.10.0 (from boto3)\n",
            "  Downloading s3transfer-0.10.1-py3-none-any.whl (82 kB)\n",
            "\u001b[2K     \u001b[90m━━━━━━━━━━━━━━━━━━━━━━━━━━━━━━━━━━━━━━━━\u001b[0m \u001b[32m82.2/82.2 kB\u001b[0m \u001b[31m9.2 MB/s\u001b[0m eta \u001b[36m0:00:00\u001b[0m\n",
            "\u001b[?25hRequirement already satisfied: pyyaml>=5.3.1 in /usr/local/lib/python3.10/dist-packages (from pybase-db) (6.0.1)\n",
            "Requirement already satisfied: rich>=9.2.0 in /usr/local/lib/python3.10/dist-packages (from pybase-db) (13.7.1)\n",
            "Requirement already satisfied: python-dateutil<3.0.0,>=2.1 in /usr/local/lib/python3.10/dist-packages (from botocore<1.35.0,>=1.34.82->boto3) (2.8.2)\n",
            "Requirement already satisfied: urllib3!=2.2.0,<3,>=1.25.4 in /usr/local/lib/python3.10/dist-packages (from botocore<1.35.0,>=1.34.82->boto3) (2.0.7)\n",
            "Requirement already satisfied: markdown-it-py>=2.2.0 in /usr/local/lib/python3.10/dist-packages (from rich>=9.2.0->pybase-db) (3.0.0)\n",
            "Requirement already satisfied: pygments<3.0.0,>=2.13.0 in /usr/local/lib/python3.10/dist-packages (from rich>=9.2.0->pybase-db) (2.16.1)\n",
            "Requirement already satisfied: mdurl~=0.1 in /usr/local/lib/python3.10/dist-packages (from markdown-it-py>=2.2.0->rich>=9.2.0->pybase-db) (0.1.2)\n",
            "Requirement already satisfied: six>=1.5 in /usr/local/lib/python3.10/dist-packages (from python-dateutil<3.0.0,>=2.1->botocore<1.35.0,>=1.34.82->boto3) (1.16.0)\n",
            "Installing collected packages: simplejson, jmespath, botocore, s3transfer, pybase-db, boto3\n",
            "Successfully installed boto3-1.34.82 botocore-1.34.82 jmespath-1.0.1 pybase-db-0.5.0 s3transfer-0.10.1 simplejson-3.19.2\n"
          ]
        }
      ],
      "source": [
        "%pip install boto3 pybase-db simplejson"
      ]
    },
    {
      "cell_type": "code",
      "execution_count": null,
      "id": "a25fc726-8e3c-4e39-8b2f-76254e7b2f5d",
      "metadata": {
        "id": "a25fc726-8e3c-4e39-8b2f-76254e7b2f5d"
      },
      "outputs": [],
      "source": [
        "##### ##### ##### ##### ##### ##### ##### ##### ##### ##### ##### ##### ##### ##### #####\n",
        "##### Step 2: Import Libaries & Initiate Bedrock Runtime API\n",
        "####### 2.1: Import boto3 to invoke Claude 3 Sonnet,\n",
        "####### 2.2: Import base64 to convert images,\n",
        "####### 2.3: Import json to convert to JSON payload\n",
        "####### 2.4: Import os for interacting with the operating system.\n",
        "####### 2.5: Set home directory.\n",
        "####### 2.6: Instantiate the Amazon Bedrock Runtime client.\n",
        "##### ##### ##### ##### ##### ##### ##### ##### ##### ##### ##### ##### ##### ##### #####"
      ]
    },
    {
      "cell_type": "code",
      "execution_count": null,
      "id": "8abdeac3-80b9-46b4-b34a-588329eb02b8",
      "metadata": {
        "tags": [],
        "id": "8abdeac3-80b9-46b4-b34a-588329eb02b8"
      },
      "outputs": [],
      "source": [
        "# 2.1 - 2.4, Importing Libraries:\n",
        "import boto3\n",
        "import base64\n",
        "import json\n",
        "import os\n",
        "\n",
        "# 2.5, Set home:\n",
        "# If not in a project, set locally:\n",
        "# HOME = \"/Users/nataliahelms/git/genai_research/\"\n",
        "# if in a project, use os (recommended):\n",
        "HOME = os.environ['HOME'] + '/genai_research/'\n",
        "\n",
        "# 2.6, Instantiate the Bedrock Runtime Client with a region_name of us-east-1:\n",
        "runtime = boto3.client(\"bedrock-runtime\",region_name=\"us-east-1\")\n",
        "MODEL_NAME = \"claude-3-opus-20240229\""
      ]
    },
    {
      "cell_type": "code",
      "execution_count": null,
      "id": "ffb91721-fcac-40fe-9a09-51bb19cfe54e",
      "metadata": {
        "tags": [],
        "id": "ffb91721-fcac-40fe-9a09-51bb19cfe54e",
        "outputId": "e52f4e61-d316-4d8c-b165-c604b6253a6b"
      },
      "outputs": [
        {
          "data": {
            "text/plain": [
              "'/root/genai_research'"
            ]
          },
          "execution_count": 16,
          "metadata": {},
          "output_type": "execute_result"
        }
      ],
      "source": [
        "HOME"
      ]
    },
    {
      "cell_type": "code",
      "execution_count": null,
      "id": "74614a99-8527-4a65-9dfb-a33ecfe2dc2d",
      "metadata": {
        "id": "74614a99-8527-4a65-9dfb-a33ecfe2dc2d"
      },
      "outputs": [],
      "source": [
        "##### ##### ##### ##### ##### ##### ##### ##### ##### ##### ##### ##### ##### ##### #####\n",
        "##### Step 3: Convert Images to base64\n",
        "####### For Claude 3 Sonnet Model, the image is supplied using base64\n",
        "####### So first, we need to convert our images to base64\n",
        "##### ##### ##### ##### ##### ##### ##### ##### ##### ##### ##### ##### ##### ##### #####"
      ]
    },
    {
      "cell_type": "code",
      "execution_count": null,
      "id": "33f2d9cb-03e2-48e8-a3b2-4b8404c5a58c",
      "metadata": {
        "id": "33f2d9cb-03e2-48e8-a3b2-4b8404c5a58c"
      },
      "outputs": [],
      "source": [
        "##### For Report App purposes, if we are able to access images of reports via URL,\n",
        "##### this functionality would be useful using the requests library:\n",
        "#image_url = \"https://url-to-the-image.com/file.jpg\"\n",
        "# Funtion to encode the image using URL\n",
        "def encode_image_url(url):\n",
        "    with requests.get(url).content as image_bytes:\n",
        "        return(base64.b64encode(image_bytes).decode(\"utf-8\"))"
      ]
    },
    {
      "cell_type": "code",
      "execution_count": null,
      "id": "bc1dca23-4b5e-47c0-b454-1eeded04baae",
      "metadata": {
        "tags": [],
        "id": "bc1dca23-4b5e-47c0-b454-1eeded04baae"
      },
      "outputs": [],
      "source": [
        "##### However, for our immediate use case, we are using local files so we will use this method:\n",
        "# Function to encode the image via path\n",
        "def encode_image_path(image_path):\n",
        "  with open(image_path, \"rb\") as image_file:\n",
        "    return base64.b64encode(image_file.read()).decode('utf-8')"
      ]
    },
    {
      "cell_type": "code",
      "execution_count": null,
      "id": "ad4bb93f-b947-4489-b5a4-7fe66bd572ae",
      "metadata": {
        "tags": [],
        "id": "ad4bb93f-b947-4489-b5a4-7fe66bd572ae"
      },
      "outputs": [],
      "source": [
        "# Getting the base64 string\n",
        "# Image Path\n",
        "superstore_path = HOME + 'data/images/superstore.png'\n",
        "ny_housing_path = HOME + 'data/images/housing_new_york.png'\n",
        "silicon_valley_path = HOME + 'data/images/unaffordable_housing_silicon_valley.png'\n",
        "\n",
        "# Getting the base64 string\n",
        "superstore_base64 = encode_image_path(superstore_path)\n",
        "ny_housing_base64 = encode_image_path(ny_housing_path)\n",
        "silicon_valley_base64 = encode_image_path(silicon_valley_path)"
      ]
    },
    {
      "cell_type": "code",
      "execution_count": null,
      "id": "272c7c09-b83b-4dd7-a14c-102c76dc2fba",
      "metadata": {
        "id": "272c7c09-b83b-4dd7-a14c-102c76dc2fba"
      },
      "outputs": [],
      "source": [
        "##### ##### ##### ##### ##### ##### ##### ##### ##### ##### ##### ##### ##### ##### #####\n",
        "##### Step 4: Build Inference Parameter Input\n",
        "####### For Claude 3 Sonnet, we are required to use the Anthropic Claude Messages API as the inference parameter input.\n",
        "####### Put this in the body parameter using json.dumps\n",
        "##### ##### ##### ##### ##### ##### ##### ##### ##### ##### ##### ##### ##### ##### #####"
      ]
    },
    {
      "cell_type": "code",
      "execution_count": null,
      "id": "4e904342-6d6b-41bc-9689-286e3afd666d",
      "metadata": {
        "tags": [],
        "id": "4e904342-6d6b-41bc-9689-286e3afd666d"
      },
      "outputs": [],
      "source": [
        "# Step 4.1, set the body using paremeter input:\n",
        "# json.dumps a dictionary of Claude’s required inference parameters\n",
        "body = json.dumps(\n",
        "    {\n",
        "        \"anthropic_version\": \"bedrock-2023-05-31\",\n",
        "        \"max_tokens\": 1000,\n",
        "        \"messages\": [\n",
        "            {\n",
        "                \"role\": \"user\",\n",
        "                \"content\": [\n",
        "                    {\n",
        "                        \"type\": \"text\",\n",
        "                        \"text\": \"I will upload 3 images of Tableau Workbooks. Which ones would fit into the Housing, Geographic, or Affordabilty categories? Images can belong to several or none of the categories, make sure to look.\"\n",
        "                    },\n",
        "                    {\n",
        "                        \"type\": \"image\",\n",
        "                        \"source\": {\n",
        "                            \"type\": \"base64\",\n",
        "                            \"media_type\": \"image/jpeg\",\n",
        "                            \"data\": silicon_valley_base64,\n",
        "                        },\n",
        "                    },\n",
        "                    {\n",
        "                        \"type\": \"image\",\n",
        "                        \"source\": {\n",
        "                            \"type\": \"base64\",\n",
        "                            \"media_type\": \"image/jpeg\",\n",
        "                            \"data\": ny_housing_base64,\n",
        "                        },\n",
        "                    },\n",
        "                    {\n",
        "                        \"type\": \"image\",\n",
        "                        \"source\": {\n",
        "                            \"type\": \"base64\",\n",
        "                            \"media_type\": \"image/jpeg\",\n",
        "                            \"data\": superstore_base64,\n",
        "                        },\n",
        "                    },\n",
        "                ],\n",
        "            }\n",
        "        ],\n",
        "    }\n",
        ")"
      ]
    },
    {
      "cell_type": "code",
      "execution_count": null,
      "id": "e894fd62-d58d-4328-85f2-a3041b276f39",
      "metadata": {
        "id": "e894fd62-d58d-4328-85f2-a3041b276f39"
      },
      "outputs": [],
      "source": [
        "##### ##### ##### ##### ##### ##### ##### ##### ##### ##### ##### ##### ##### ##### #####\n",
        "##### Step 5: Invoke the Model\n",
        "##### ##### ##### ##### ##### ##### ##### ##### ##### ##### ##### ##### ##### ##### #####"
      ]
    },
    {
      "cell_type": "code",
      "execution_count": null,
      "id": "a2785434-d1cf-4f3d-9731-7e94a7e0e0cc",
      "metadata": {
        "tags": [],
        "id": "a2785434-d1cf-4f3d-9731-7e94a7e0e0cc"
      },
      "outputs": [],
      "source": [
        "# Step 5, Invoke the model\n",
        "response = runtime.invoke_model(\n",
        "    modelId=\"anthropic.claude-3-sonnet-20240229-v1:0\",\n",
        "    contentType=\"application/json\",\n",
        "    accept=\"application/json\",\n",
        "    body=body\n",
        ")"
      ]
    },
    {
      "cell_type": "code",
      "execution_count": null,
      "id": "7d8e1460-b956-45d7-9883-b7f29cb51bbe",
      "metadata": {
        "id": "7d8e1460-b956-45d7-9883-b7f29cb51bbe"
      },
      "outputs": [],
      "source": [
        "##### ##### ##### ##### ##### ##### ##### ##### ##### ##### ##### ##### ##### ##### #####\n",
        "##### Step 6: Get the Response\n",
        "##### ##### ##### ##### ##### ##### ##### ##### ##### ##### ##### ##### ##### ##### #####"
      ]
    },
    {
      "cell_type": "code",
      "execution_count": null,
      "id": "0952833a-5843-4fcb-a606-64e81c42a258",
      "metadata": {
        "tags": [],
        "id": "0952833a-5843-4fcb-a606-64e81c42a258",
        "outputId": "c423a435-3401-4022-f051-853388ff6a5e"
      },
      "outputs": [
        {
          "name": "stdout",
          "output_type": "stream",
          "text": [
            "[{'type': 'text', 'text': 'Based on the images provided, here is how they would fit into the Housing, Geographic, or Affordability categories:\\n\\nImage 1: This image fits into the Housing, Geographic, and Affordability categories. It displays a map of the Silicon Valley region, color-coded to show the change in median monthly housing costs from 2010 to 2017 across different census tracts. This visualization conveys information about housing affordability levels across different geographic areas.\\n\\nImage 2: This image fits into the Housing and Affordability categories. It provides an overview of the \"Housing New York\" initiative aimed at expanding affordable housing opportunities in New York City. The map shows the locations of affordable housing projects across the city\\'s boroughs. While not explicitly geographic, the map visualization conveys the geographic distribution of these projects.\\n\\nImage 3: This image does not fit into any of the specified categories (Housing, Geographic, or Affordability). It appears to be an overview dashboard displaying various sales, profit, and customer metrics for a business. The visualizations cover aspects like sales by state, segment, category, and top customers/manufacturers, but do not directly relate to housing, geographic, or affordability topics.'}]\n"
          ]
        }
      ],
      "source": [
        "# Step 6,\n",
        "# Convert the StreamingBody to a JSON encoded string using .read()\n",
        "# then turn the JSON string into a dictionary using json.loads\n",
        "response_body = json.loads(response.get(\"body\").read())\n",
        "\n",
        "#The Claude JSON output includes a completion attribute with the text.\n",
        "print(response_body.get(\"content\"))"
      ]
    },
    {
      "cell_type": "code",
      "source": [],
      "metadata": {
        "id": "uIdhaPD4DFY_"
      },
      "id": "uIdhaPD4DFY_",
      "execution_count": null,
      "outputs": []
    },
    {
      "cell_type": "code",
      "source": [
        "prompt_text <- \"ChatGPT,\n",
        "Can you please behave as a data analyst that needs to provide a description of a tableau report for his business partners. The goal of this description is to inform the business partners of the overarching capabilities of this tableau and the information it provides, allowing them to get an understanding of what to expect in this report going forward.\n",
        "This summary will be based on the tableau .tbwx file provided here, which should be read as an XML file, and several images of the report.\n",
        "\n",
        "Please consider the following questions when formatting the description:\n",
        "•\tWhat information is being summarized here?\n",
        "•\tThe description should be concise and focus on the key aspects of the report.\n",
        "•\tIndicate what type of data is being leveraged in this report\n",
        "•\tAvoid vague descriptions of the report's capabilities or construction, and focus solely on the data and its takeaways.\n",
        "•\tAvoid deriving any key insights based on current data, but indicate what potential information can be derived from this report in the future\n",
        "•\tAvoid explicitly naming tableau or referencing data windows\n",
        "Description should be limited to a short paragraph, 1-3 sentences.\n",
        "\""
      ],
      "metadata": {
        "id": "m4P889TzE11w"
      },
      "id": "m4P889TzE11w",
      "execution_count": null,
      "outputs": []
    },
    {
      "cell_type": "code",
      "source": [
        "prompt_text_v2 = \"ChatGPT, \\n  Can you please behave as a data analyst that needs to provide a description of a tableau report for his business partners. The goal of this description is to inform the business partners of the overarching capabilities of this tableau and the information it provides, allowing them to get an understanding of what to expect in this report going forward. \\n This summary will be based on the tableau .tbwx file provided here, which should be read as an XML file, and several images of the report.  \\n \\n Please consider the following questions when formatting the description: \\n \\n What information is being summarized here? \\n The description should be concise and focus on the key aspects of the report. \\n Indicate what type of data is being leveraged in this report. \\n Avoid vague descriptions of the report's capabilities or construction, and focus solely on the data and its takeaways. \\n Avoid deriving any key insights based on current data, but indicate what potential information can be derived from this report in the future. \\n Avoid explicitly naming tableau or referencing data windows. \\n Description should be limited to a short paragraph, 1-3 sentences.\"\n",
        "\n",
        "print(prompt_text_v2)"
      ],
      "metadata": {
        "colab": {
          "base_uri": "https://localhost:8080/"
        },
        "id": "sdATl5uEF_5W",
        "outputId": "9deea602-891e-410e-9b36-3a9d2243e494"
      },
      "id": "sdATl5uEF_5W",
      "execution_count": 10,
      "outputs": [
        {
          "output_type": "stream",
          "name": "stdout",
          "text": [
            "ChatGPT, \n",
            "  Can you please behave as a data analyst that needs to provide a description of a tableau report for his business partners. The goal of this description is to inform the business partners of the overarching capabilities of this tableau and the information it provides, allowing them to get an understanding of what to expect in this report going forward. \n",
            " This summary will be based on the tableau .tbwx file provided here, which should be read as an XML file, and several images of the report.  \n",
            " \n",
            " Please consider the following questions when formatting the description: \n",
            " \n",
            " What information is being summarized here? \n",
            " The description should be concise and focus on the key aspects of the report. \n",
            " Indicate what type of data is being leveraged in this report. \n",
            " Avoid vague descriptions of the report's capabilities or construction, and focus solely on the data and its takeaways. \n",
            " Avoid deriving any key insights based on current data, but indicate what potential information can be derived from this report in the future. \n",
            " Avoid explicitly naming tableau or referencing data windows. \n",
            " Description should be limited to a short paragraph, 1-3 sentences.\n"
          ]
        }
      ]
    },
    {
      "cell_type": "code",
      "source": [
        "def chat_function(keyword):\n",
        "  if(keyword==\"Keyword\"):\n",
        "    print(\"Keyword req\")\n",
        "  else:\n",
        "    print(\"summary req\")\n",
        "\n",
        "chat_function(\"summary\")"
      ],
      "metadata": {
        "colab": {
          "base_uri": "https://localhost:8080/"
        },
        "id": "04Jp0nC6HGdy",
        "outputId": "8d266a01-e053-4660-ba69-8e580f614c39"
      },
      "id": "04Jp0nC6HGdy",
      "execution_count": 15,
      "outputs": [
        {
          "output_type": "stream",
          "name": "stdout",
          "text": [
            "summary req\n"
          ]
        }
      ]
    },
    {
      "cell_type": "code",
      "source": [
        "chat_function(\"Keyword\")"
      ],
      "metadata": {
        "colab": {
          "base_uri": "https://localhost:8080/"
        },
        "id": "RJV4iUjrHTsG",
        "outputId": "0674a89b-002d-49b3-fc8c-663ccb28bbb3"
      },
      "id": "RJV4iUjrHTsG",
      "execution_count": 17,
      "outputs": [
        {
          "output_type": "stream",
          "name": "stdout",
          "text": [
            "Keyword req\n"
          ]
        }
      ]
    },
    {
      "cell_type": "markdown",
      "source": [],
      "metadata": {
        "id": "1niUzf2mDo8H"
      },
      "id": "1niUzf2mDo8H"
    },
    {
      "cell_type": "markdown",
      "source": [],
      "metadata": {
        "id": "5b-rHS4_DeZc"
      },
      "id": "5b-rHS4_DeZc"
    },
    {
      "cell_type": "code",
      "source": [],
      "metadata": {
        "id": "h-L8IfAGDeJG"
      },
      "id": "h-L8IfAGDeJG",
      "execution_count": null,
      "outputs": []
    },
    {
      "cell_type": "code",
      "source": [],
      "metadata": {
        "id": "szbZLq5UDeGV"
      },
      "id": "szbZLq5UDeGV",
      "execution_count": null,
      "outputs": []
    }
  ],
  "metadata": {
    "availableInstances": [
      {
        "_defaultOrder": 0,
        "_isFastLaunch": true,
        "category": "General purpose",
        "gpuNum": 0,
        "hideHardwareSpecs": false,
        "memoryGiB": 4,
        "name": "ml.t3.medium",
        "vcpuNum": 2
      },
      {
        "_defaultOrder": 1,
        "_isFastLaunch": false,
        "category": "General purpose",
        "gpuNum": 0,
        "hideHardwareSpecs": false,
        "memoryGiB": 8,
        "name": "ml.t3.large",
        "vcpuNum": 2
      },
      {
        "_defaultOrder": 2,
        "_isFastLaunch": false,
        "category": "General purpose",
        "gpuNum": 0,
        "hideHardwareSpecs": false,
        "memoryGiB": 16,
        "name": "ml.t3.xlarge",
        "vcpuNum": 4
      },
      {
        "_defaultOrder": 3,
        "_isFastLaunch": false,
        "category": "General purpose",
        "gpuNum": 0,
        "hideHardwareSpecs": false,
        "memoryGiB": 32,
        "name": "ml.t3.2xlarge",
        "vcpuNum": 8
      },
      {
        "_defaultOrder": 4,
        "_isFastLaunch": true,
        "category": "General purpose",
        "gpuNum": 0,
        "hideHardwareSpecs": false,
        "memoryGiB": 8,
        "name": "ml.m5.large",
        "vcpuNum": 2
      },
      {
        "_defaultOrder": 5,
        "_isFastLaunch": false,
        "category": "General purpose",
        "gpuNum": 0,
        "hideHardwareSpecs": false,
        "memoryGiB": 16,
        "name": "ml.m5.xlarge",
        "vcpuNum": 4
      },
      {
        "_defaultOrder": 6,
        "_isFastLaunch": false,
        "category": "General purpose",
        "gpuNum": 0,
        "hideHardwareSpecs": false,
        "memoryGiB": 32,
        "name": "ml.m5.2xlarge",
        "vcpuNum": 8
      },
      {
        "_defaultOrder": 7,
        "_isFastLaunch": false,
        "category": "General purpose",
        "gpuNum": 0,
        "hideHardwareSpecs": false,
        "memoryGiB": 64,
        "name": "ml.m5.4xlarge",
        "vcpuNum": 16
      },
      {
        "_defaultOrder": 8,
        "_isFastLaunch": false,
        "category": "General purpose",
        "gpuNum": 0,
        "hideHardwareSpecs": false,
        "memoryGiB": 128,
        "name": "ml.m5.8xlarge",
        "vcpuNum": 32
      },
      {
        "_defaultOrder": 9,
        "_isFastLaunch": false,
        "category": "General purpose",
        "gpuNum": 0,
        "hideHardwareSpecs": false,
        "memoryGiB": 192,
        "name": "ml.m5.12xlarge",
        "vcpuNum": 48
      },
      {
        "_defaultOrder": 10,
        "_isFastLaunch": false,
        "category": "General purpose",
        "gpuNum": 0,
        "hideHardwareSpecs": false,
        "memoryGiB": 256,
        "name": "ml.m5.16xlarge",
        "vcpuNum": 64
      },
      {
        "_defaultOrder": 11,
        "_isFastLaunch": false,
        "category": "General purpose",
        "gpuNum": 0,
        "hideHardwareSpecs": false,
        "memoryGiB": 384,
        "name": "ml.m5.24xlarge",
        "vcpuNum": 96
      },
      {
        "_defaultOrder": 12,
        "_isFastLaunch": false,
        "category": "General purpose",
        "gpuNum": 0,
        "hideHardwareSpecs": false,
        "memoryGiB": 8,
        "name": "ml.m5d.large",
        "vcpuNum": 2
      },
      {
        "_defaultOrder": 13,
        "_isFastLaunch": false,
        "category": "General purpose",
        "gpuNum": 0,
        "hideHardwareSpecs": false,
        "memoryGiB": 16,
        "name": "ml.m5d.xlarge",
        "vcpuNum": 4
      },
      {
        "_defaultOrder": 14,
        "_isFastLaunch": false,
        "category": "General purpose",
        "gpuNum": 0,
        "hideHardwareSpecs": false,
        "memoryGiB": 32,
        "name": "ml.m5d.2xlarge",
        "vcpuNum": 8
      },
      {
        "_defaultOrder": 15,
        "_isFastLaunch": false,
        "category": "General purpose",
        "gpuNum": 0,
        "hideHardwareSpecs": false,
        "memoryGiB": 64,
        "name": "ml.m5d.4xlarge",
        "vcpuNum": 16
      },
      {
        "_defaultOrder": 16,
        "_isFastLaunch": false,
        "category": "General purpose",
        "gpuNum": 0,
        "hideHardwareSpecs": false,
        "memoryGiB": 128,
        "name": "ml.m5d.8xlarge",
        "vcpuNum": 32
      },
      {
        "_defaultOrder": 17,
        "_isFastLaunch": false,
        "category": "General purpose",
        "gpuNum": 0,
        "hideHardwareSpecs": false,
        "memoryGiB": 192,
        "name": "ml.m5d.12xlarge",
        "vcpuNum": 48
      },
      {
        "_defaultOrder": 18,
        "_isFastLaunch": false,
        "category": "General purpose",
        "gpuNum": 0,
        "hideHardwareSpecs": false,
        "memoryGiB": 256,
        "name": "ml.m5d.16xlarge",
        "vcpuNum": 64
      },
      {
        "_defaultOrder": 19,
        "_isFastLaunch": false,
        "category": "General purpose",
        "gpuNum": 0,
        "hideHardwareSpecs": false,
        "memoryGiB": 384,
        "name": "ml.m5d.24xlarge",
        "vcpuNum": 96
      },
      {
        "_defaultOrder": 20,
        "_isFastLaunch": false,
        "category": "General purpose",
        "gpuNum": 0,
        "hideHardwareSpecs": true,
        "memoryGiB": 0,
        "name": "ml.geospatial.interactive",
        "supportedImageNames": [
          "sagemaker-geospatial-v1-0"
        ],
        "vcpuNum": 0
      },
      {
        "_defaultOrder": 21,
        "_isFastLaunch": true,
        "category": "Compute optimized",
        "gpuNum": 0,
        "hideHardwareSpecs": false,
        "memoryGiB": 4,
        "name": "ml.c5.large",
        "vcpuNum": 2
      },
      {
        "_defaultOrder": 22,
        "_isFastLaunch": false,
        "category": "Compute optimized",
        "gpuNum": 0,
        "hideHardwareSpecs": false,
        "memoryGiB": 8,
        "name": "ml.c5.xlarge",
        "vcpuNum": 4
      },
      {
        "_defaultOrder": 23,
        "_isFastLaunch": false,
        "category": "Compute optimized",
        "gpuNum": 0,
        "hideHardwareSpecs": false,
        "memoryGiB": 16,
        "name": "ml.c5.2xlarge",
        "vcpuNum": 8
      },
      {
        "_defaultOrder": 24,
        "_isFastLaunch": false,
        "category": "Compute optimized",
        "gpuNum": 0,
        "hideHardwareSpecs": false,
        "memoryGiB": 32,
        "name": "ml.c5.4xlarge",
        "vcpuNum": 16
      },
      {
        "_defaultOrder": 25,
        "_isFastLaunch": false,
        "category": "Compute optimized",
        "gpuNum": 0,
        "hideHardwareSpecs": false,
        "memoryGiB": 72,
        "name": "ml.c5.9xlarge",
        "vcpuNum": 36
      },
      {
        "_defaultOrder": 26,
        "_isFastLaunch": false,
        "category": "Compute optimized",
        "gpuNum": 0,
        "hideHardwareSpecs": false,
        "memoryGiB": 96,
        "name": "ml.c5.12xlarge",
        "vcpuNum": 48
      },
      {
        "_defaultOrder": 27,
        "_isFastLaunch": false,
        "category": "Compute optimized",
        "gpuNum": 0,
        "hideHardwareSpecs": false,
        "memoryGiB": 144,
        "name": "ml.c5.18xlarge",
        "vcpuNum": 72
      },
      {
        "_defaultOrder": 28,
        "_isFastLaunch": false,
        "category": "Compute optimized",
        "gpuNum": 0,
        "hideHardwareSpecs": false,
        "memoryGiB": 192,
        "name": "ml.c5.24xlarge",
        "vcpuNum": 96
      },
      {
        "_defaultOrder": 29,
        "_isFastLaunch": true,
        "category": "Accelerated computing",
        "gpuNum": 1,
        "hideHardwareSpecs": false,
        "memoryGiB": 16,
        "name": "ml.g4dn.xlarge",
        "vcpuNum": 4
      },
      {
        "_defaultOrder": 30,
        "_isFastLaunch": false,
        "category": "Accelerated computing",
        "gpuNum": 1,
        "hideHardwareSpecs": false,
        "memoryGiB": 32,
        "name": "ml.g4dn.2xlarge",
        "vcpuNum": 8
      },
      {
        "_defaultOrder": 31,
        "_isFastLaunch": false,
        "category": "Accelerated computing",
        "gpuNum": 1,
        "hideHardwareSpecs": false,
        "memoryGiB": 64,
        "name": "ml.g4dn.4xlarge",
        "vcpuNum": 16
      },
      {
        "_defaultOrder": 32,
        "_isFastLaunch": false,
        "category": "Accelerated computing",
        "gpuNum": 1,
        "hideHardwareSpecs": false,
        "memoryGiB": 128,
        "name": "ml.g4dn.8xlarge",
        "vcpuNum": 32
      },
      {
        "_defaultOrder": 33,
        "_isFastLaunch": false,
        "category": "Accelerated computing",
        "gpuNum": 4,
        "hideHardwareSpecs": false,
        "memoryGiB": 192,
        "name": "ml.g4dn.12xlarge",
        "vcpuNum": 48
      },
      {
        "_defaultOrder": 34,
        "_isFastLaunch": false,
        "category": "Accelerated computing",
        "gpuNum": 1,
        "hideHardwareSpecs": false,
        "memoryGiB": 256,
        "name": "ml.g4dn.16xlarge",
        "vcpuNum": 64
      },
      {
        "_defaultOrder": 35,
        "_isFastLaunch": false,
        "category": "Accelerated computing",
        "gpuNum": 1,
        "hideHardwareSpecs": false,
        "memoryGiB": 61,
        "name": "ml.p3.2xlarge",
        "vcpuNum": 8
      },
      {
        "_defaultOrder": 36,
        "_isFastLaunch": false,
        "category": "Accelerated computing",
        "gpuNum": 4,
        "hideHardwareSpecs": false,
        "memoryGiB": 244,
        "name": "ml.p3.8xlarge",
        "vcpuNum": 32
      },
      {
        "_defaultOrder": 37,
        "_isFastLaunch": false,
        "category": "Accelerated computing",
        "gpuNum": 8,
        "hideHardwareSpecs": false,
        "memoryGiB": 488,
        "name": "ml.p3.16xlarge",
        "vcpuNum": 64
      },
      {
        "_defaultOrder": 38,
        "_isFastLaunch": false,
        "category": "Accelerated computing",
        "gpuNum": 8,
        "hideHardwareSpecs": false,
        "memoryGiB": 768,
        "name": "ml.p3dn.24xlarge",
        "vcpuNum": 96
      },
      {
        "_defaultOrder": 39,
        "_isFastLaunch": false,
        "category": "Memory Optimized",
        "gpuNum": 0,
        "hideHardwareSpecs": false,
        "memoryGiB": 16,
        "name": "ml.r5.large",
        "vcpuNum": 2
      },
      {
        "_defaultOrder": 40,
        "_isFastLaunch": false,
        "category": "Memory Optimized",
        "gpuNum": 0,
        "hideHardwareSpecs": false,
        "memoryGiB": 32,
        "name": "ml.r5.xlarge",
        "vcpuNum": 4
      },
      {
        "_defaultOrder": 41,
        "_isFastLaunch": false,
        "category": "Memory Optimized",
        "gpuNum": 0,
        "hideHardwareSpecs": false,
        "memoryGiB": 64,
        "name": "ml.r5.2xlarge",
        "vcpuNum": 8
      },
      {
        "_defaultOrder": 42,
        "_isFastLaunch": false,
        "category": "Memory Optimized",
        "gpuNum": 0,
        "hideHardwareSpecs": false,
        "memoryGiB": 128,
        "name": "ml.r5.4xlarge",
        "vcpuNum": 16
      },
      {
        "_defaultOrder": 43,
        "_isFastLaunch": false,
        "category": "Memory Optimized",
        "gpuNum": 0,
        "hideHardwareSpecs": false,
        "memoryGiB": 256,
        "name": "ml.r5.8xlarge",
        "vcpuNum": 32
      },
      {
        "_defaultOrder": 44,
        "_isFastLaunch": false,
        "category": "Memory Optimized",
        "gpuNum": 0,
        "hideHardwareSpecs": false,
        "memoryGiB": 384,
        "name": "ml.r5.12xlarge",
        "vcpuNum": 48
      },
      {
        "_defaultOrder": 45,
        "_isFastLaunch": false,
        "category": "Memory Optimized",
        "gpuNum": 0,
        "hideHardwareSpecs": false,
        "memoryGiB": 512,
        "name": "ml.r5.16xlarge",
        "vcpuNum": 64
      },
      {
        "_defaultOrder": 46,
        "_isFastLaunch": false,
        "category": "Memory Optimized",
        "gpuNum": 0,
        "hideHardwareSpecs": false,
        "memoryGiB": 768,
        "name": "ml.r5.24xlarge",
        "vcpuNum": 96
      },
      {
        "_defaultOrder": 47,
        "_isFastLaunch": false,
        "category": "Accelerated computing",
        "gpuNum": 1,
        "hideHardwareSpecs": false,
        "memoryGiB": 16,
        "name": "ml.g5.xlarge",
        "vcpuNum": 4
      },
      {
        "_defaultOrder": 48,
        "_isFastLaunch": false,
        "category": "Accelerated computing",
        "gpuNum": 1,
        "hideHardwareSpecs": false,
        "memoryGiB": 32,
        "name": "ml.g5.2xlarge",
        "vcpuNum": 8
      },
      {
        "_defaultOrder": 49,
        "_isFastLaunch": false,
        "category": "Accelerated computing",
        "gpuNum": 1,
        "hideHardwareSpecs": false,
        "memoryGiB": 64,
        "name": "ml.g5.4xlarge",
        "vcpuNum": 16
      },
      {
        "_defaultOrder": 50,
        "_isFastLaunch": false,
        "category": "Accelerated computing",
        "gpuNum": 1,
        "hideHardwareSpecs": false,
        "memoryGiB": 128,
        "name": "ml.g5.8xlarge",
        "vcpuNum": 32
      },
      {
        "_defaultOrder": 51,
        "_isFastLaunch": false,
        "category": "Accelerated computing",
        "gpuNum": 1,
        "hideHardwareSpecs": false,
        "memoryGiB": 256,
        "name": "ml.g5.16xlarge",
        "vcpuNum": 64
      },
      {
        "_defaultOrder": 52,
        "_isFastLaunch": false,
        "category": "Accelerated computing",
        "gpuNum": 4,
        "hideHardwareSpecs": false,
        "memoryGiB": 192,
        "name": "ml.g5.12xlarge",
        "vcpuNum": 48
      },
      {
        "_defaultOrder": 53,
        "_isFastLaunch": false,
        "category": "Accelerated computing",
        "gpuNum": 4,
        "hideHardwareSpecs": false,
        "memoryGiB": 384,
        "name": "ml.g5.24xlarge",
        "vcpuNum": 96
      },
      {
        "_defaultOrder": 54,
        "_isFastLaunch": false,
        "category": "Accelerated computing",
        "gpuNum": 8,
        "hideHardwareSpecs": false,
        "memoryGiB": 768,
        "name": "ml.g5.48xlarge",
        "vcpuNum": 192
      },
      {
        "_defaultOrder": 55,
        "_isFastLaunch": false,
        "category": "Accelerated computing",
        "gpuNum": 8,
        "hideHardwareSpecs": false,
        "memoryGiB": 1152,
        "name": "ml.p4d.24xlarge",
        "vcpuNum": 96
      },
      {
        "_defaultOrder": 56,
        "_isFastLaunch": false,
        "category": "Accelerated computing",
        "gpuNum": 8,
        "hideHardwareSpecs": false,
        "memoryGiB": 1152,
        "name": "ml.p4de.24xlarge",
        "vcpuNum": 96
      },
      {
        "_defaultOrder": 57,
        "_isFastLaunch": false,
        "category": "Accelerated computing",
        "gpuNum": 0,
        "hideHardwareSpecs": false,
        "memoryGiB": 32,
        "name": "ml.trn1.2xlarge",
        "vcpuNum": 8
      },
      {
        "_defaultOrder": 58,
        "_isFastLaunch": false,
        "category": "Accelerated computing",
        "gpuNum": 0,
        "hideHardwareSpecs": false,
        "memoryGiB": 512,
        "name": "ml.trn1.32xlarge",
        "vcpuNum": 128
      },
      {
        "_defaultOrder": 59,
        "_isFastLaunch": false,
        "category": "Accelerated computing",
        "gpuNum": 0,
        "hideHardwareSpecs": false,
        "memoryGiB": 512,
        "name": "ml.trn1n.32xlarge",
        "vcpuNum": 128
      }
    ],
    "instance_type": "ml.t3.medium",
    "kernelspec": {
      "display_name": "Python 3 (Data Science 3.0)",
      "language": "python",
      "name": "python3__SAGEMAKER_INTERNAL__arn:aws:sagemaker:us-east-1:081325390199:image/sagemaker-data-science-310-v1"
    },
    "language_info": {
      "codemirror_mode": {
        "name": "ipython",
        "version": 3
      },
      "file_extension": ".py",
      "mimetype": "text/x-python",
      "name": "python",
      "nbconvert_exporter": "python",
      "pygments_lexer": "ipython3",
      "version": "3.10.6"
    },
    "colab": {
      "provenance": [],
      "include_colab_link": true
    }
  },
  "nbformat": 4,
  "nbformat_minor": 5
}