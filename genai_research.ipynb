{
 "cells": [
  {
   "cell_type": "code",
   "execution_count": 1,
   "id": "80b17923-ed97-4c9a-95f8-3f0da3fcec03",
   "metadata": {},
   "outputs": [
    {
     "name": "stdout",
     "output_type": "stream",
     "text": [
      "Requirement already satisfied: boto3 in /opt/conda/lib/python3.10/site-packages (1.34.51)\n",
      "Requirement already satisfied: botocore<1.35.0,>=1.34.51 in /opt/conda/lib/python3.10/site-packages (from boto3) (1.34.51)\n",
      "Requirement already satisfied: jmespath<2.0.0,>=0.7.1 in /opt/conda/lib/python3.10/site-packages (from boto3) (1.0.1)\n",
      "Requirement already satisfied: s3transfer<0.11.0,>=0.10.0 in /opt/conda/lib/python3.10/site-packages (from boto3) (0.10.0)\n",
      "Requirement already satisfied: python-dateutil<3.0.0,>=2.1 in /opt/conda/lib/python3.10/site-packages (from botocore<1.35.0,>=1.34.51->boto3) (2.9.0)\n",
      "Requirement already satisfied: urllib3<2.1,>=1.25.4 in /opt/conda/lib/python3.10/site-packages (from botocore<1.35.0,>=1.34.51->boto3) (1.26.18)\n",
      "Requirement already satisfied: six>=1.5 in /opt/conda/lib/python3.10/site-packages (from python-dateutil<3.0.0,>=2.1->botocore<1.35.0,>=1.34.51->boto3) (1.16.0)\n",
      "Note: you may need to restart the kernel to use updated packages.\n"
     ]
    }
   ],
   "source": [
    "%pip install boto3"
   ]
  },
  {
   "cell_type": "code",
   "execution_count": 4,
   "id": "9b2469f8-724d-4a3c-9241-d559322d893f",
   "metadata": {},
   "outputs": [
    {
     "name": "stdout",
     "output_type": "stream",
     "text": [
      "Collecting simplejson\n",
      "  Downloading simplejson-3.19.2-cp310-cp310-manylinux_2_5_x86_64.manylinux1_x86_64.manylinux_2_17_x86_64.manylinux2014_x86_64.whl.metadata (3.1 kB)\n",
      "Downloading simplejson-3.19.2-cp310-cp310-manylinux_2_5_x86_64.manylinux1_x86_64.manylinux_2_17_x86_64.manylinux2014_x86_64.whl (137 kB)\n",
      "\u001b[2K   \u001b[90m━━━━━━━━━━━━━━━━━━━━━━━━━━━━━━━━━━━━━━━━\u001b[0m \u001b[32m137.9/137.9 kB\u001b[0m \u001b[31m14.5 MB/s\u001b[0m eta \u001b[36m0:00:00\u001b[0m\n",
      "\u001b[?25hInstalling collected packages: simplejson\n",
      "Successfully installed simplejson-3.19.2\n",
      "Note: you may need to restart the kernel to use updated packages.\n"
     ]
    }
   ],
   "source": [
    "%pip install simplejson"
   ]
  },
  {
   "cell_type": "code",
   "execution_count": 5,
   "id": "418ef869-569e-44fb-8f5e-be3a3397efdb",
   "metadata": {},
   "outputs": [
    {
     "name": "stdout",
     "output_type": "stream",
     "text": [
      "Collecting pybase-db\n",
      "  Downloading pybase_db-0.5.0-py3-none-any.whl.metadata (4.8 kB)\n",
      "Requirement already satisfied: pyyaml>=5.3.1 in /opt/conda/lib/python3.10/site-packages (from pybase-db) (6.0.1)\n",
      "Requirement already satisfied: rich>=9.2.0 in /opt/conda/lib/python3.10/site-packages (from pybase-db) (13.7.1)\n",
      "Requirement already satisfied: markdown-it-py>=2.2.0 in /opt/conda/lib/python3.10/site-packages (from rich>=9.2.0->pybase-db) (3.0.0)\n",
      "Requirement already satisfied: pygments<3.0.0,>=2.13.0 in /opt/conda/lib/python3.10/site-packages (from rich>=9.2.0->pybase-db) (2.17.2)\n",
      "Requirement already satisfied: mdurl~=0.1 in /opt/conda/lib/python3.10/site-packages (from markdown-it-py>=2.2.0->rich>=9.2.0->pybase-db) (0.1.2)\n",
      "Downloading pybase_db-0.5.0-py3-none-any.whl (11 kB)\n",
      "Installing collected packages: pybase-db\n",
      "Successfully installed pybase-db-0.5.0\n",
      "Note: you may need to restart the kernel to use updated packages.\n"
     ]
    }
   ],
   "source": [
    "%pip install pybase-db"
   ]
  },
  {
   "cell_type": "code",
   "execution_count": 10,
   "id": "d3a77959-82c3-4407-a82d-6c875efdfba7",
   "metadata": {},
   "outputs": [
    {
     "data": {
      "text/plain": [
       "'/home/sagemaker-user/genai_research/'"
      ]
     },
     "execution_count": 10,
     "metadata": {},
     "output_type": "execute_result"
    }
   ],
   "source": [
    "# 2.1 - 2.4, Importing Libraries:\n",
    "import boto3\n",
    "import base64\n",
    "import json\n",
    "import os\n",
    "\n",
    "# 2.5, Set home:\n",
    "# If not in a project, set locally:\n",
    "# HOME = \"/Users/nataliahelms/git/genai_research/\"\n",
    "# if in a project, use os (recommended):\n",
    "HOME = os.environ['HOME'] + '/genai_research/'\n",
    "\n",
    "# 2.6, Instantiate the Bedrock Runtime Client with a region_name of us-east-1:\n",
    "runtime = boto3.client(\"bedrock-runtime\",region_name=\"us-east-1\")\n",
    "MODEL_NAME = \"claude-3-opus-20240229\"\n",
    "\n",
    "HOME"
   ]
  },
  {
   "cell_type": "code",
   "execution_count": 13,
   "id": "de7c3ab2-a028-4859-b85f-d2b67895f32c",
   "metadata": {},
   "outputs": [],
   "source": [
    "##### For Report App purposes, if we are able to access images of reports via URL, \n",
    "##### this functionality would be useful using the requests library:\n",
    "#image_url = \"https://url-to-the-image.com/file.jpg\"\n",
    "# Funtion to encode the image using URL\n",
    "def encode_image_url(url):\n",
    "    with requests.get(url).content as image_bytes:\n",
    "        return(base64.b64encode(image_bytes).decode(\"utf-8\"))"
   ]
  },
  {
   "cell_type": "code",
   "execution_count": 14,
   "id": "8d0ce26c-3e06-41a1-b2de-f69ef9234908",
   "metadata": {},
   "outputs": [],
   "source": [
    "##### However, for our immediate use case, we are using local files so we will use this method:\n",
    "# Function to encode the image via path\n",
    "def encode_image_path(image_path):\n",
    "  with open(image_path, \"rb\") as image_file:\n",
    "    return base64.b64encode(image_file.read()).decode('utf-8')"
   ]
  },
  {
   "cell_type": "code",
   "execution_count": 15,
   "id": "bd739792-2205-4fd2-9d10-881a032b80f8",
   "metadata": {},
   "outputs": [],
   "source": [
    "# Getting the base64 string\n",
    "# Image Path\n",
    "superstore_path = HOME + 'data/images/superstore.png'\n",
    "ny_housing_path = HOME + 'data/images/housing_new_york.png'\n",
    "silicon_valley_path = HOME + 'data/images/unaffordable_housing_silicon_valley.png'\n",
    "\n",
    "# Getting the base64 string\n",
    "superstore_base64 = encode_image_path(superstore_path)\n",
    "ny_housing_base64 = encode_image_path(ny_housing_path)\n",
    "silicon_valley_base64 = encode_image_path(silicon_valley_path)"
   ]
  },
  {
   "cell_type": "code",
   "execution_count": 19,
   "id": "ff513c70-2d3f-4946-8ad1-83f50cd7c24d",
   "metadata": {},
   "outputs": [],
   "source": []
  },
  {
   "cell_type": "code",
   "execution_count": 22,
   "id": "3786325a-787c-411f-a598-6334c1cea1f6",
   "metadata": {},
   "outputs": [],
   "source": [
    "##### Step 4: Build Inference Parameter Input\n",
    "####### For Claude 3 Sonnet, we are required to use the Anthropic Claude Messages API as the inference parameter input.\n",
    "####### Put this in the body parameter using json.dumps\n",
    "##### ##### ##### ##### ##### ##### ##### ##### ##### ##### ##### ##### ##### ##### ##### \n",
    "\n",
    "# Step 4.1, set the body using paremeter input:\n",
    "# json.dumps a dictionary of Claude’s required inference parameters\n",
    "body = json.dumps(\n",
    "    {\n",
    "        \"anthropic_version\": \"bedrock-2023-05-31\",\n",
    "        \"max_tokens\": 1000,\n",
    "        \"messages\": [\n",
    "            {\n",
    "                \"role\": \"user\",\n",
    "                \"content\": [\n",
    "                    {\n",
    "                        \"type\": \"text\", \n",
    "                        \"text\": \"I will upload 3 images of Tableau Workbooks. Which ones would fit into the Housing, Geographic, or Affordabilty categories? Images can belong to several or none of the categories, make sure to look.\"\n",
    "                    },\n",
    "                    {\n",
    "                        \"type\": \"image\",\n",
    "                        \"source\": {\n",
    "                            \"type\": \"base64\",\n",
    "                            \"media_type\": \"image/jpeg\",\n",
    "                            \"data\": silicon_valley_base64,\n",
    "                        },\n",
    "                    },\n",
    "                    {\n",
    "                        \"type\": \"image\",\n",
    "                        \"source\": {\n",
    "                            \"type\": \"base64\",\n",
    "                            \"media_type\": \"image/jpeg\",\n",
    "                            \"data\": ny_housing_base64,\n",
    "                        },\n",
    "                    },\n",
    "                    {\n",
    "                        \"type\": \"image\",\n",
    "                        \"source\": {\n",
    "                            \"type\": \"base64\",\n",
    "                            \"media_type\": \"image/jpeg\",\n",
    "                            \"data\": superstore_base64,\n",
    "                        },\n",
    "                    },\n",
    "                ],\n",
    "            }\n",
    "        ],\n",
    "    }\n",
    ")"
   ]
  },
  {
   "cell_type": "code",
   "execution_count": 20,
   "id": "0956da34-d8f3-424a-95e0-5207f1c49670",
   "metadata": {},
   "outputs": [],
   "source": [
    "\n",
    "##### ##### ##### ##### ##### ##### ##### ##### ##### ##### ##### ##### ##### ##### ##### \n",
    "##### Step 5: Invoke the Model\n",
    "##### ##### ##### ##### ##### ##### ##### ##### ##### ##### ##### ##### ##### ##### ##### \n",
    "\n",
    "# Step 5, Invoke the model\n",
    "response = runtime.invoke_model(\n",
    "    modelId=\"anthropic.claude-3-sonnet-20240229-v1:0\",\n",
    "    contentType=\"application/json\",\n",
    "    accept=\"application/json\",\n",
    "    body=body\n",
    ")\n"
   ]
  },
  {
   "cell_type": "code",
   "execution_count": 21,
   "id": "ca13fb47-0522-484b-8c26-e78c6023e764",
   "metadata": {},
   "outputs": [
    {
     "name": "stdout",
     "output_type": "stream",
     "text": [
      "[{'type': 'text', 'text': 'Based on the images provided, here is how they fit into the Housing, Geographic, and Affordability categories:\\n\\nImage 1:\\nThis image belongs to the Housing and Geographic categories. It displays a map of the Silicon Valley region, showing the change in median monthly housing costs from 2010 to 2017 across different census tracts. The geographic map visualization and focus on housing costs relate to both the Geographic and Housing categories.\\n\\nImage 2:  \\nThis image falls under the Housing and Affordability categories. It presents information about New York City\\'s plan to expand affordable housing opportunities, including details on the number of affordable housing units targeted and completion rates. The explicit mention of \"affordable housing\" and the statistics provided align with both the Housing and Affordability categories.\\n\\nImage 3:\\nThis image does not seem to fit into any of the Housing, Geographic, or Affordability categories. It appears to be an overview dashboard displaying various business metrics such as sales, profit, orders, and customer information. The content is focused on general business performance and does not directly relate to housing, geographic data, or affordability.'}]\n"
     ]
    }
   ],
   "source": [
    "\n",
    "##### ##### ##### ##### ##### ##### ##### ##### ##### ##### ##### ##### ##### ##### ##### \n",
    "##### Step 6: Get the Response\n",
    "##### ##### ##### ##### ##### ##### ##### ##### ##### ##### ##### ##### ##### ##### ##### \n",
    "\n",
    "# Step 6,\n",
    "# Convert the StreamingBody to a JSON encoded string using .read() \n",
    "# then turn the JSON string into a dictionary using json.loads\n",
    "response_body = json.loads(response.get(\"body\").read())\n",
    "\n",
    "\n",
    "#The Claude JSON output includes a completion attribute with the text.\n",
    "print(response_body.get(\"content\"))\n"
   ]
  },
  {
   "cell_type": "markdown",
   "id": "ab7b5dc9-0309-4737-9355-b89e0182aea5",
   "metadata": {},
   "source": [
    "Test creating a description prompt:"
   ]
  },
  {
   "cell_type": "code",
   "execution_count": null,
   "id": "57a6d4b0-4666-45e7-8eb6-fb2154c3a3ad",
   "metadata": {},
   "outputs": [],
   "source": []
  },
  {
   "cell_type": "code",
   "execution_count": 26,
   "id": "b10b63fc-357b-483c-98b1-54fa44407580",
   "metadata": {},
   "outputs": [],
   "source": [
    "##### ##### ##### ##### ##### ##### ##### ##### ##### ##### ##### ##### ##### ##### ##### \n",
    "##### Step 4: Build Inference Parameter Input\n",
    "####### For Claude 3 Sonnet, we are required to use the Anthropic Claude Messages API as the inference parameter input.\n",
    "####### Put this in the body parameter using json.dumps\n",
    "##### ##### ##### ##### ##### ##### ##### ##### ##### ##### ##### ##### ##### ##### ##### \n",
    "\n",
    "# Step 4.1, set the body using paremeter input:\n",
    "# json.dumps a dictionary of Claude’s required inference parameters\n",
    "body2 = json.dumps(\n",
    "    {\n",
    "        \"anthropic_version\": \"bedrock-2023-05-31\",\n",
    "        \"max_tokens\": 1000,\n",
    "        \"messages\": [\n",
    "            {\n",
    "                \"role\": \"user\",\n",
    "                \"content\": [\n",
    "                    {\n",
    "                        \"type\": \"text\", \n",
    "                        \"text\": \"I will upload 1 images of a Tableau Workbook. Can you provide a brief description of what this image of a report contains? Please limit the description to maximum 5 sentences.\"\n",
    "                    },\n",
    "                    {\n",
    "                        \"type\": \"image\",\n",
    "                        \"source\": {\n",
    "                            \"type\": \"base64\",\n",
    "                            \"media_type\": \"image/jpeg\",\n",
    "                            \"data\": silicon_valley_base64,\n",
    "                        },\n",
    "                    },\n",
    "                ],\n",
    "            }\n",
    "        ],\n",
    "    }\n",
    ")\n",
    "body_keyword = json.dumps(\n",
    "    {\n",
    "        \"anthropic_version\": \"bedrock-2023-05-31\",\n",
    "        \"max_tokens\": 1000,\n",
    "        \"messages\": [\n",
    "            {\n",
    "                \"role\": \"user\",\n",
    "                \"content\": [\n",
    "                    {\n",
    "                        \"type\": \"text\", \n",
    "                        \"text\": \"I will upload 1 images of a Tableau Workbook. Can you provide a list of 10 key words to describe what type of information is contained in this report? Please limit the description to maximum of 10 keywords.\"\n",
    "                    },\n",
    "                    {\n",
    "                        \"type\": \"image\",\n",
    "                        \"source\": {\n",
    "                            \"type\": \"base64\",\n",
    "                            \"media_type\": \"image/jpeg\",\n",
    "                            \"data\": silicon_valley_base64,\n",
    "                        },\n",
    "                    },\n",
    "                ],\n",
    "            }\n",
    "        ],\n",
    "    }\n",
    ")\n"
   ]
  },
  {
   "cell_type": "code",
   "execution_count": 24,
   "id": "b8487227-1df6-44ff-8b83-248b2f835c95",
   "metadata": {},
   "outputs": [],
   "source": [
    "\n",
    "##### ##### ##### ##### ##### ##### ##### ##### ##### ##### ##### ##### ##### ##### ##### \n",
    "##### Step 5: Invoke the Model\n",
    "##### ##### ##### ##### ##### ##### ##### ##### ##### ##### ##### ##### ##### ##### ##### \n",
    "\n",
    "# Step 5, Invoke the model\n",
    "response = runtime.invoke_model(\n",
    "    modelId=\"anthropic.claude-3-sonnet-20240229-v1:0\",\n",
    "    contentType=\"application/json\",\n",
    "    accept=\"application/json\",\n",
    "    body=body2\n",
    ")\n"
   ]
  },
  {
   "cell_type": "code",
   "execution_count": 25,
   "id": "ce1405e9-fb11-498b-908a-5b124f8162ed",
   "metadata": {},
   "outputs": [
    {
     "name": "stdout",
     "output_type": "stream",
     "text": [
      "[{'type': 'text', 'text': 'This image contains a map of the Silicon Valley area, specifically focusing on the change in median monthly housing costs from 2010 to 2017. The map is color-coded, with census tracts shaded in orange indicating an increase in housing costs, and tracts shaded in blue indicating a decrease or lower housing costs.\\n\\nThe title of the report is \"Affordable Housing in Silicon Valley.\" The map area covers a significant portion of the San Francisco Bay Area, including cities such as San Francisco, Oakland, and San Jose.\\n\\nAccording to the description provided, approximately 83% of the census tracts shown on the map experienced an increase in monthly housing costs between 2010 and 2017. The Uptown neighborhood in Oakland is highlighted as an area where housing costs more than doubled during this period.\\n\\nThe report includes a slider that allows the user to visualize the change in monthly housing costs over time by toggling between the 2010 and 2017 data.\\n\\nThe map is accompanied by a legend that displays the range of median monthly housing costs, with a color gradient ranging from green (lower costs) to red (higher costs).\\n\\nThe source of the data is cited as the Census 2017 ACS (American Community Survey).'}]\n"
     ]
    }
   ],
   "source": [
    "# Step 6,\n",
    "# Convert the StreamingBody to a JSON encoded string using .read() \n",
    "# then turn the JSON string into a dictionary using json.loads\n",
    "response_body = json.loads(response.get(\"body\").read())\n",
    "\n",
    "\n",
    "#The Claude JSON output includes a completion attribute with the text.\n",
    "print(response_body.get(\"content\"))"
   ]
  },
  {
   "cell_type": "code",
   "execution_count": 27,
   "id": "514cb33b-1746-481f-8513-ef38e6854ee3",
   "metadata": {},
   "outputs": [
    {
     "name": "stdout",
     "output_type": "stream",
     "text": [
      "[{'type': 'text', 'text': 'The 10 keywords to describe the type of information contained in this Tableau report are:\\n\\n1. Affordable Housing\\n2. Silicon Valley\\n3. Median Monthly Costs\\n4. Housing Costs\\n5. Increase\\n6. Geographic Distribution\\n7. Census Tracts\\n8. Time Comparison\\n9. Oakland Neighborhood\\n10. Interactive Map'}]\n"
     ]
    }
   ],
   "source": [
    "response_keyword = runtime.invoke_model(\n",
    "    modelId=\"anthropic.claude-3-sonnet-20240229-v1:0\",\n",
    "    contentType=\"application/json\",\n",
    "    accept=\"application/json\",\n",
    "    body=body_keyword\n",
    ")\n",
    "\n",
    "response_body_keyword = json.loads(response_keyword.get(\"body\").read())\n",
    "\n",
    "print(response_body_keyword.get(\"content\"))"
   ]
  },
  {
   "cell_type": "code",
   "execution_count": null,
   "id": "bac6869a-b674-46f0-a9bc-13e7e9c62129",
   "metadata": {},
   "outputs": [],
   "source": []
  }
 ],
 "metadata": {
  "kernelspec": {
   "display_name": "Python 3 (ipykernel)",
   "language": "python",
   "name": "python3"
  },
  "language_info": {
   "codemirror_mode": {
    "name": "ipython",
    "version": 3
   },
   "file_extension": ".py",
   "mimetype": "text/x-python",
   "name": "python",
   "nbconvert_exporter": "python",
   "pygments_lexer": "ipython3",
   "version": "3.10.13"
  }
 },
 "nbformat": 4,
 "nbformat_minor": 5
}
